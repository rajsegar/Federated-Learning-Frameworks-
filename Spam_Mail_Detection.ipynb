{
  "nbformat": 4,
  "nbformat_minor": 0,
  "metadata": {
    "colab": {
      "provenance": [],
      "authorship_tag": "ABX9TyMih6Mw+HwWdNe5Rm0AE1CJ",
      "include_colab_link": true
    },
    "kernelspec": {
      "name": "python3",
      "display_name": "Python 3"
    },
    "language_info": {
      "name": "python"
    }
  },
  "cells": [
    {
      "cell_type": "markdown",
      "metadata": {
        "id": "view-in-github",
        "colab_type": "text"
      },
      "source": [
        "<a href=\"https://colab.research.google.com/github/rajsegar/Federated-Learning-Frameworks-/blob/main/Spam_Mail_Detection.ipynb\" target=\"_parent\"><img src=\"https://colab.research.google.com/assets/colab-badge.svg\" alt=\"Open In Colab\"/></a>"
      ]
    },
    {
      "cell_type": "markdown",
      "metadata": {
        "id": "vUkpT6Om5-sX"
      },
      "source": [
        "# Phishing Email Analysis using LLMs\n",
        "\n",
        "## Introduction\n",
        "\n",
        "This Jupyter notebook demonstrates how to use Large Language Models (LLMs) to analyze emails for potential phishing attempts. We'll use the Ollama framework to run a local LLM, then create a simple GUI for one-shot email analysis. Finally, we will test our process with a realworld datasets of phishing emails.\n",
        "\n",
        "## Setup\n",
        "\n",
        "Before we begin let’s import the necessary libraries: pandas, numpy, tensorflow, matplotlib, wordcloud, nltk for data processing, model building, and visualization."
      ]
    },
    {
      "cell_type": "code",
      "source": [
        "import kagglehub\n",
        "# Download latest version\n",
        "path = kagglehub.dataset_download(\"naserabdullahalam/phishing-email-dataset\")\n",
        "\n",
        "print(\"Path to dataset files:\", path)"
      ],
      "metadata": {
        "colab": {
          "base_uri": "https://localhost:8080/"
        },
        "id": "5Bqf1PuggEry",
        "outputId": "dbd7e040-68b2-46ec-a5e6-7e0ef01f598d"
      },
      "execution_count": 1,
      "outputs": [
        {
          "output_type": "stream",
          "name": "stdout",
          "text": [
            "Path to dataset files: /kaggle/input/phishing-email-dataset\n"
          ]
        }
      ]
    },
    {
      "cell_type": "markdown",
      "source": [
        "# Step 1: Import Required Libraries\n",
        "let’s import the necessary libraries: pandas, numpy, tensorflow, matplotlib, wordcloud, nltk for data processing, model building, and visualization.\n",
        "\n",
        "\n"
      ],
      "metadata": {
        "id": "j5JgDUK-ffZy"
      }
    },
    {
      "cell_type": "code",
      "source": [
        "import pandas as pd\n",
        "import numpy as np\n",
        "import matplotlib.pyplot as plt\n",
        "import seaborn as sns\n",
        "import tensorflow as tf\n",
        "import string\n",
        "import nltk\n",
        "\n",
        "from sklearn.model_selection import train_test_split\n",
        "from sklearn.feature_extraction.text import TfidfVectorizer\n",
        "from tensorflow.keras.preprocessing.text import Tokenizer\n",
        "from tensorflow.keras.preprocessing.sequence import pad_sequences\n",
        "from keras.callbacks import EarlyStopping, ReduceLROnPlateau\n",
        "from sklearn.model_selection import train_test_split\n",
        "from sklearn.linear_model import LogisticRegression\n",
        "from sklearn.metrics import accuracy_score, confusion_matrix, classification_report\n",
        "from imblearn.over_sampling import SMOTE\n",
        "\n",
        "from nltk.corpus import stopwords\n",
        "from wordcloud import WordCloud\n",
        "nltk.download('stopwords')\n",
        "\n",
        "\n",
        "\n",
        "import warnings\n",
        "warnings.filterwarnings('ignore')"
      ],
      "metadata": {
        "colab": {
          "base_uri": "https://localhost:8080/"
        },
        "id": "OupkpCIfffIr",
        "outputId": "7a9686b2-1abb-4cbd-9036-8ebc04575c9b"
      },
      "execution_count": 11,
      "outputs": [
        {
          "output_type": "stream",
          "name": "stderr",
          "text": [
            "[nltk_data] Downloading package stopwords to /root/nltk_data...\n",
            "[nltk_data]   Package stopwords is already up-to-date!\n"
          ]
        }
      ]
    },
    {
      "cell_type": "markdown",
      "source": [
        "# Step 2: Load the Dataset\n",
        " use a dataset containing labeled emails (Spam or Ham). Let’s load the dataset and inspect its structure."
      ],
      "metadata": {
        "id": "SyiQ7mwugpfe"
      }
    },
    {
      "cell_type": "code",
      "source": [
        "df = pd.read_csv('/kaggle/input/phishing-email-dataset/SpamAssasin.csv')\n",
        "df.head()\n",
        "df.info()\n",
        "df.isnull().sum()"
      ],
      "metadata": {
        "colab": {
          "base_uri": "https://localhost:8080/",
          "height": 554
        },
        "outputId": "a82ef879-4891-4ab6-e0cd-345dfc6da2ff",
        "id": "0RxTapdxHMX1"
      },
      "execution_count": 3,
      "outputs": [
        {
          "output_type": "stream",
          "name": "stdout",
          "text": [
            "<class 'pandas.core.frame.DataFrame'>\n",
            "RangeIndex: 5809 entries, 0 to 5808\n",
            "Data columns (total 7 columns):\n",
            " #   Column    Non-Null Count  Dtype \n",
            "---  ------    --------------  ----- \n",
            " 0   sender    5809 non-null   object\n",
            " 1   receiver  5599 non-null   object\n",
            " 2   date      5809 non-null   object\n",
            " 3   subject   5793 non-null   object\n",
            " 4   body      5808 non-null   object\n",
            " 5   label     5809 non-null   int64 \n",
            " 6   urls      5809 non-null   int64 \n",
            "dtypes: int64(2), object(5)\n",
            "memory usage: 317.8+ KB\n"
          ]
        },
        {
          "output_type": "execute_result",
          "data": {
            "text/plain": [
              "sender        0\n",
              "receiver    210\n",
              "date          0\n",
              "subject      16\n",
              "body          1\n",
              "label         0\n",
              "urls          0\n",
              "dtype: int64"
            ],
            "text/html": [
              "<div>\n",
              "<style scoped>\n",
              "    .dataframe tbody tr th:only-of-type {\n",
              "        vertical-align: middle;\n",
              "    }\n",
              "\n",
              "    .dataframe tbody tr th {\n",
              "        vertical-align: top;\n",
              "    }\n",
              "\n",
              "    .dataframe thead th {\n",
              "        text-align: right;\n",
              "    }\n",
              "</style>\n",
              "<table border=\"1\" class=\"dataframe\">\n",
              "  <thead>\n",
              "    <tr style=\"text-align: right;\">\n",
              "      <th></th>\n",
              "      <th>0</th>\n",
              "    </tr>\n",
              "  </thead>\n",
              "  <tbody>\n",
              "    <tr>\n",
              "      <th>sender</th>\n",
              "      <td>0</td>\n",
              "    </tr>\n",
              "    <tr>\n",
              "      <th>receiver</th>\n",
              "      <td>210</td>\n",
              "    </tr>\n",
              "    <tr>\n",
              "      <th>date</th>\n",
              "      <td>0</td>\n",
              "    </tr>\n",
              "    <tr>\n",
              "      <th>subject</th>\n",
              "      <td>16</td>\n",
              "    </tr>\n",
              "    <tr>\n",
              "      <th>body</th>\n",
              "      <td>1</td>\n",
              "    </tr>\n",
              "    <tr>\n",
              "      <th>label</th>\n",
              "      <td>0</td>\n",
              "    </tr>\n",
              "    <tr>\n",
              "      <th>urls</th>\n",
              "      <td>0</td>\n",
              "    </tr>\n",
              "  </tbody>\n",
              "</table>\n",
              "</div><br><label><b>dtype:</b> int64</label>"
            ]
          },
          "metadata": {},
          "execution_count": 3
        }
      ]
    },
    {
      "cell_type": "markdown",
      "source": [
        "# Setp 3 : Understand the functionality in mail_check model"
      ],
      "metadata": {
        "id": "Fy6CnyT8HT7a"
      }
    },
    {
      "cell_type": "code",
      "source": [
        "df.info()\n",
        "df['label'].value_counts()\n"
      ],
      "metadata": {
        "colab": {
          "base_uri": "https://localhost:8080/",
          "height": 428
        },
        "id": "iTNTuDuZgpPk",
        "outputId": "e1c83958-fb53-465a-c597-7c4967dcdf8b"
      },
      "execution_count": 4,
      "outputs": [
        {
          "output_type": "stream",
          "name": "stdout",
          "text": [
            "<class 'pandas.core.frame.DataFrame'>\n",
            "RangeIndex: 5809 entries, 0 to 5808\n",
            "Data columns (total 7 columns):\n",
            " #   Column    Non-Null Count  Dtype \n",
            "---  ------    --------------  ----- \n",
            " 0   sender    5809 non-null   object\n",
            " 1   receiver  5599 non-null   object\n",
            " 2   date      5809 non-null   object\n",
            " 3   subject   5793 non-null   object\n",
            " 4   body      5808 non-null   object\n",
            " 5   label     5809 non-null   int64 \n",
            " 6   urls      5809 non-null   int64 \n",
            "dtypes: int64(2), object(5)\n",
            "memory usage: 317.8+ KB\n"
          ]
        },
        {
          "output_type": "execute_result",
          "data": {
            "text/plain": [
              "label\n",
              "0    4091\n",
              "1    1718\n",
              "Name: count, dtype: int64"
            ],
            "text/html": [
              "<div>\n",
              "<style scoped>\n",
              "    .dataframe tbody tr th:only-of-type {\n",
              "        vertical-align: middle;\n",
              "    }\n",
              "\n",
              "    .dataframe tbody tr th {\n",
              "        vertical-align: top;\n",
              "    }\n",
              "\n",
              "    .dataframe thead th {\n",
              "        text-align: right;\n",
              "    }\n",
              "</style>\n",
              "<table border=\"1\" class=\"dataframe\">\n",
              "  <thead>\n",
              "    <tr style=\"text-align: right;\">\n",
              "      <th></th>\n",
              "      <th>count</th>\n",
              "    </tr>\n",
              "    <tr>\n",
              "      <th>label</th>\n",
              "      <th></th>\n",
              "    </tr>\n",
              "  </thead>\n",
              "  <tbody>\n",
              "    <tr>\n",
              "      <th>0</th>\n",
              "      <td>4091</td>\n",
              "    </tr>\n",
              "    <tr>\n",
              "      <th>1</th>\n",
              "      <td>1718</td>\n",
              "    </tr>\n",
              "  </tbody>\n",
              "</table>\n",
              "</div><br><label><b>dtype:</b> int64</label>"
            ]
          },
          "metadata": {},
          "execution_count": 4
        }
      ]
    },
    {
      "cell_type": "markdown",
      "source": [],
      "metadata": {
        "id": "dUJcX951jVIz"
      }
    },
    {
      "cell_type": "code",
      "source": [
        "sns.countplot(x='label', data=df)\n",
        "plt.title('Distribution of Phishing (1) vs. Legitimate (0) Emails')\n",
        "plt.show()"
      ],
      "metadata": {
        "colab": {
          "base_uri": "https://localhost:8080/",
          "height": 472
        },
        "id": "iovCiimNT-6I",
        "outputId": "d7f40681-329f-48d1-9812-c8861e39f478"
      },
      "execution_count": 5,
      "outputs": [
        {
          "output_type": "display_data",
          "data": {
            "text/plain": [
              "<Figure size 640x480 with 1 Axes>"
            ],
            "image/png": "[encoded data removed]"
          },
          "metadata": {}
        }
      ]
    },
    {
      "cell_type": "code",
      "source": [
        "df['text'] = df['subject'].str.replace('Subject', '')\n",
        "df.head()"
      ],
      "metadata": {
        "colab": {
          "base_uri": "https://localhost:8080/",
          "height": 293
        },
        "id": "yfHyId9NjU43",
        "outputId": "a85d572a-e8e5-44de-dc8e-2d40791c685e"
      },
      "execution_count": 6,
      "outputs": [
        {
          "output_type": "execute_result",
          "data": {
            "text/plain": [
              "                                      sender  \\\n",
              "0             Robert Elz <kre@munnari.OZ.AU>   \n",
              "1  Steve Burt <Steve_Burt@cursor-system.com>   \n",
              "2              \"Tim Chapman\" <timc@2ubh.com>   \n",
              "3           Monty Solomon <monty@roscom.com>   \n",
              "4  Stewart Smith <Stewart.Smith@ee.ed.ac.uk>   \n",
              "\n",
              "                                            receiver  \\\n",
              "0  Chris Garrigues <cwg-dated-1030377287.06fa6d@D...   \n",
              "1  \"'zzzzteana@yahoogroups.com'\" <zzzzteana@yahoo...   \n",
              "2              zzzzteana <zzzzteana@yahoogroups.com>   \n",
              "3                           undisclosed-recipient: ;   \n",
              "4                          zzzzteana@yahoogroups.com   \n",
              "\n",
              "                              date  \\\n",
              "0  Thu, 22 Aug 2002 18:26:25 +0700   \n",
              "1  Thu, 22 Aug 2002 12:46:18 +0100   \n",
              "2  Thu, 22 Aug 2002 13:52:38 +0100   \n",
              "3  Thu, 22 Aug 2002 09:15:25 -0400   \n",
              "4  Thu, 22 Aug 2002 14:38:22 +0100   \n",
              "\n",
              "                                          subject  \\\n",
              "0                        Re: New Sequences Window   \n",
              "1                       [zzzzteana] RE: Alexander   \n",
              "2                       [zzzzteana] Moscow bomber   \n",
              "3           [IRR] Klez: The Virus That  Won't Die   \n",
              "4  Re: [zzzzteana] Nothing like mama used to make   \n",
              "\n",
              "                                                body  label  urls  \\\n",
              "0  Date:        Wed, 21 Aug 2002 10:54:46 -0500  ...      0     1   \n",
              "1  Martin A posted:\\nTassos Papadopoulos, the Gre...      0     1   \n",
              "2  Man Threatens Explosion In Moscow \\n\\nThursday...      0     1   \n",
              "3  Klez: The Virus That Won't Die\\n \\nAlready the...      0     1   \n",
              "4  >  in adding cream to spaghetti carbonara, whi...      0     1   \n",
              "\n",
              "                                             text  \n",
              "0                        Re: New Sequences Window  \n",
              "1                       [zzzzteana] RE: Alexander  \n",
              "2                       [zzzzteana] Moscow bomber  \n",
              "3           [IRR] Klez: The Virus That  Won't Die  \n",
              "4  Re: [zzzzteana] Nothing like mama used to make  "
            ],
            "text/html": [
              "\n",
              "  <div id=\"df-ce5a8a7e-bc1b-4c4e-8cfb-fd3eadc26454\" class=\"colab-df-container\">\n",
              "    <div>\n",
              "<style scoped>\n",
              "    .dataframe tbody tr th:only-of-type {\n",
              "        vertical-align: middle;\n",
              "    }\n",
              "\n",
              "    .dataframe tbody tr th {\n",
              "        vertical-align: top;\n",
              "    }\n",
              "\n",
              "    .dataframe thead th {\n",
              "        text-align: right;\n",
              "    }\n",
              "</style>\n",
              "<table border=\"1\" class=\"dataframe\">\n",
              "  <thead>\n",
              "    <tr style=\"text-align: right;\">\n",
              "      <th></th>\n",
              "      <th>sender</th>\n",
              "      <th>receiver</th>\n",
              "      <th>date</th>\n",
              "      <th>subject</th>\n",
              "      <th>body</th>\n",
              "      <th>label</th>\n",
              "      <th>urls</th>\n",
              "      <th>text</th>\n",
              "    </tr>\n",
              "  </thead>\n",
              "  <tbody>\n",
              "    <tr>\n",
              "      <th>0</th>\n",
              "      <td>Robert Elz &lt;kre@munnari.OZ.AU&gt;</td>\n",
              "      <td>Chris Garrigues &lt;cwg-dated-1030377287.06fa6d@D...</td>\n",
              "      <td>Thu, 22 Aug 2002 18:26:25 +0700</td>\n",
              "      <td>Re: New Sequences Window</td>\n",
              "      <td>Date:        Wed, 21 Aug 2002 10:54:46 -0500  ...</td>\n",
              "      <td>0</td>\n",
              "      <td>1</td>\n",
              "      <td>Re: New Sequences Window</td>\n",
              "    </tr>\n",
              "    <tr>\n",
              "      <th>1</th>\n",
              "      <td>Steve Burt &lt;Steve_Burt@cursor-system.com&gt;</td>\n",
              "      <td>\"'zzzzteana@yahoogroups.com'\" &lt;zzzzteana@yahoo...</td>\n",
              "      <td>Thu, 22 Aug 2002 12:46:18 +0100</td>\n",
              "      <td>[zzzzteana] RE: Alexander</td>\n",
              "      <td>Martin A posted:\\nTassos Papadopoulos, the Gre...</td>\n",
              "      <td>0</td>\n",
              "      <td>1</td>\n",
              "      <td>[zzzzteana] RE: Alexander</td>\n",
              "    </tr>\n",
              "    <tr>\n",
              "      <th>2</th>\n",
              "      <td>\"Tim Chapman\" &lt;timc@2ubh.com&gt;</td>\n",
              "      <td>zzzzteana &lt;zzzzteana@yahoogroups.com&gt;</td>\n",
              "      <td>Thu, 22 Aug 2002 13:52:38 +0100</td>\n",
              "      <td>[zzzzteana] Moscow bomber</td>\n",
              "      <td>Man Threatens Explosion In Moscow \\n\\nThursday...</td>\n",
              "      <td>0</td>\n",
              "      <td>1</td>\n",
              "      <td>[zzzzteana] Moscow bomber</td>\n",
              "    </tr>\n",
              "    <tr>\n",
              "      <th>3</th>\n",
              "      <td>Monty Solomon &lt;monty@roscom.com&gt;</td>\n",
              "      <td>undisclosed-recipient: ;</td>\n",
              "      <td>Thu, 22 Aug 2002 09:15:25 -0400</td>\n",
              "      <td>[IRR] Klez: The Virus That  Won't Die</td>\n",
              "      <td>Klez: The Virus That Won't Die\\n \\nAlready the...</td>\n",
              "      <td>0</td>\n",
              "      <td>1</td>\n",
              "      <td>[IRR] Klez: The Virus That  Won't Die</td>\n",
              "    </tr>\n",
              "    <tr>\n",
              "      <th>4</th>\n",
              "      <td>Stewart Smith &lt;Stewart.Smith@ee.ed.ac.uk&gt;</td>\n",
              "      <td>zzzzteana@yahoogroups.com</td>\n",
              "      <td>Thu, 22 Aug 2002 14:38:22 +0100</td>\n",
              "      <td>Re: [zzzzteana] Nothing like mama used to make</td>\n",
              "      <td>&gt;  in adding cream to spaghetti carbonara, whi...</td>\n",
              "      <td>0</td>\n",
              "      <td>1</td>\n",
              "      <td>Re: [zzzzteana] Nothing like mama used to make</td>\n",
              "    </tr>\n",
              "  </tbody>\n",
              "</table>\n",
              "</div>\n",
              "    <div class=\"colab-df-buttons\">\n",
              "\n",
              "  <div class=\"colab-df-container\">\n",
              "    <button class=\"colab-df-convert\" onclick=\"convertToInteractive('df-ce5a8a7e-bc1b-4c4e-8cfb-fd3eadc26454')\"\n",
              "            title=\"Convert this dataframe to an interactive table.\"\n",
              "            style=\"display:none;\">\n",
              "\n",
              "  <svg xmlns=\"http://www.w3.org/2000/svg\" height=\"24px\" viewBox=\"0 -960 960 960\">\n",
              "    <path d=\"M120-120v-720h720v720H120Zm60-500h600v-160H180v160Zm220 220h160v-160H400v160Zm0 220h160v-160H400v160ZM180-400h160v-160H180v160Zm440 0h160v-160H620v160ZM180-180h160v-160H180v160Zm440 0h160v-160H620v160Z\"/>\n",
              "  </svg>\n",
              "    </button>\n",
              "\n",
              "  <style>\n",
              "    .colab-df-container {\n",
              "      display:flex;\n",
              "      gap: 12px;\n",
              "    }\n",
              "\n",
              "    .colab-df-convert {\n",
              "      background-color: #E8F0FE;\n",
              "      border: none;\n",
              "      border-radius: 50%;\n",
              "      cursor: pointer;\n",
              "      display: none;\n",
              "      fill: #1967D2;\n",
              "      height: 32px;\n",
              "      padding: 0 0 0 0;\n",
              "      width: 32px;\n",
              "    }\n",
              "\n",
              "    .colab-df-convert:hover {\n",
              "      background-color: #E2EBFA;\n",
              "      box-shadow: 0px 1px 2px rgba(60, 64, 67, 0.3), 0px 1px 3px 1px rgba(60, 64, 67, 0.15);\n",
              "      fill: #174EA6;\n",
              "    }\n",
              "\n",
              "    .colab-df-buttons div {\n",
              "      margin-bottom: 4px;\n",
              "    }\n",
              "\n",
              "    [theme=dark] .colab-df-convert {\n",
              "      background-color: #3B4455;\n",
              "      fill: #D2E3FC;\n",
              "    }\n",
              "\n",
              "    [theme=dark] .colab-df-convert:hover {\n",
              "      background-color: #434B5C;\n",
              "      box-shadow: 0px 1px 3px 1px rgba(0, 0, 0, 0.15);\n",
              "      filter: drop-shadow(0px 1px 2px rgba(0, 0, 0, 0.3));\n",
              "      fill: #FFFFFF;\n",
              "    }\n",
              "  </style>\n",
              "\n",
              "    <script>\n",
              "      const buttonEl =\n",
              "        document.querySelector('#df-ce5a8a7e-bc1b-4c4e-8cfb-fd3eadc26454 button.colab-df-convert');\n",
              "      buttonEl.style.display =\n",
              "        google.colab.kernel.accessAllowed ? 'block' : 'none';\n",
              "\n",
              "      async function convertToInteractive(key) {\n",
              "        const element = document.querySelector('#df-ce5a8a7e-bc1b-4c4e-8cfb-fd3eadc26454');\n",
              "        const dataTable =\n",
              "          await google.colab.kernel.invokeFunction('convertToInteractive',\n",
              "                                                    [key], {});\n",
              "        if (!dataTable) return;\n",
              "\n",
              "        const docLinkHtml = 'Like what you see? Visit the ' +\n",
              "          '<a target=\"_blank\" href=https://colab.research.google.com/notebooks/data_table.ipynb>data table notebook</a>'\n",
              "          + ' to learn more about interactive tables.';\n",
              "        element.innerHTML = '';\n",
              "        dataTable['output_type'] = 'display_data';\n",
              "        await google.colab.output.renderOutput(dataTable, element);\n",
              "        const docLink = document.createElement('div');\n",
              "        docLink.innerHTML = docLinkHtml;\n",
              "        element.appendChild(docLink);\n",
              "      }\n",
              "    </script>\n",
              "  </div>\n",
              "\n",
              "\n",
              "    <div id=\"df-991bdb39-ad6c-4c18-8193-54c0e7b8c141\">\n",
              "      <button class=\"colab-df-quickchart\" onclick=\"quickchart('df-991bdb39-ad6c-4c18-8193-54c0e7b8c141')\"\n",
              "                title=\"Suggest charts\"\n",
              "                style=\"display:none;\">\n",
              "\n",
              "<svg xmlns=\"http://www.w3.org/2000/svg\" height=\"24px\"viewBox=\"0 0 24 24\"\n",
              "     width=\"24px\">\n",
              "    <g>\n",
              "        <path d=\"M19 3H5c-1.1 0-2 .9-2 2v14c0 1.1.9 2 2 2h14c1.1 0 2-.9 2-2V5c0-1.1-.9-2-2-2zM9 17H7v-7h2v7zm4 0h-2V7h2v10zm4 0h-2v-4h2v4z\"/>\n",
              "    </g>\n",
              "</svg>\n",
              "      </button>\n",
              "\n",
              "<style>\n",
              "  .colab-df-quickchart {\n",
              "      --bg-color: #E8F0FE;\n",
              "      --fill-color: #1967D2;\n",
              "      --hover-bg-color: #E2EBFA;\n",
              "      --hover-fill-color: #174EA6;\n",
              "      --disabled-fill-color: #AAA;\n",
              "      --disabled-bg-color: #DDD;\n",
              "  }\n",
              "\n",
              "  [theme=dark] .colab-df-quickchart {\n",
              "      --bg-color: #3B4455;\n",
              "      --fill-color: #D2E3FC;\n",
              "      --hover-bg-color: #434B5C;\n",
              "      --hover-fill-color: #FFFFFF;\n",
              "      --disabled-bg-color: #3B4455;\n",
              "      --disabled-fill-color: #666;\n",
              "  }\n",
              "\n",
              "  .colab-df-quickchart {\n",
              "    background-color: var(--bg-color);\n",
              "    border: none;\n",
              "    border-radius: 50%;\n",
              "    cursor: pointer;\n",
              "    display: none;\n",
              "    fill: var(--fill-color);\n",
              "    height: 32px;\n",
              "    padding: 0;\n",
              "    width: 32px;\n",
              "  }\n",
              "\n",
              "  .colab-df-quickchart:hover {\n",
              "    background-color: var(--hover-bg-color);\n",
              "    box-shadow: 0 1px 2px rgba(60, 64, 67, 0.3), 0 1px 3px 1px rgba(60, 64, 67, 0.15);\n",
              "    fill: var(--button-hover-fill-color);\n",
              "  }\n",
              "\n",
              "  .colab-df-quickchart-complete:disabled,\n",
              "  .colab-df-quickchart-complete:disabled:hover {\n",
              "    background-color: var(--disabled-bg-color);\n",
              "    fill: var(--disabled-fill-color);\n",
              "    box-shadow: none;\n",
              "  }\n",
              "\n",
              "  .colab-df-spinner {\n",
              "    border: 2px solid var(--fill-color);\n",
              "    border-color: transparent;\n",
              "    border-bottom-color: var(--fill-color);\n",
              "    animation:\n",
              "      spin 1s steps(1) infinite;\n",
              "  }\n",
              "\n",
              "  @keyframes spin {\n",
              "    0% {\n",
              "      border-color: transparent;\n",
              "      border-bottom-color: var(--fill-color);\n",
              "      border-left-color: var(--fill-color);\n",
              "    }\n",
              "    20% {\n",
              "      border-color: transparent;\n",
              "      border-left-color: var(--fill-color);\n",
              "      border-top-color: var(--fill-color);\n",
              "    }\n",
              "    30% {\n",
              "      border-color: transparent;\n",
              "      border-left-color: var(--fill-color);\n",
              "      border-top-color: var(--fill-color);\n",
              "      border-right-color: var(--fill-color);\n",
              "    }\n",
              "    40% {\n",
              "      border-color: transparent;\n",
              "      border-right-color: var(--fill-color);\n",
              "      border-top-color: var(--fill-color);\n",
              "    }\n",
              "    60% {\n",
              "      border-color: transparent;\n",
              "      border-right-color: var(--fill-color);\n",
              "    }\n",
              "    80% {\n",
              "      border-color: transparent;\n",
              "      border-right-color: var(--fill-color);\n",
              "      border-bottom-color: var(--fill-color);\n",
              "    }\n",
              "    90% {\n",
              "      border-color: transparent;\n",
              "      border-bottom-color: var(--fill-color);\n",
              "    }\n",
              "  }\n",
              "</style>\n",
              "\n",
              "      <script>\n",
              "        async function quickchart(key) {\n",
              "          const quickchartButtonEl =\n",
              "            document.querySelector('#' + key + ' button');\n",
              "          quickchartButtonEl.disabled = true;  // To prevent multiple clicks.\n",
              "          quickchartButtonEl.classList.add('colab-df-spinner');\n",
              "          try {\n",
              "            const charts = await google.colab.kernel.invokeFunction(\n",
              "                'suggestCharts', [key], {});\n",
              "          } catch (error) {\n",
              "            console.error('Error during call to suggestCharts:', error);\n",
              "          }\n",
              "          quickchartButtonEl.classList.remove('colab-df-spinner');\n",
              "          quickchartButtonEl.classList.add('colab-df-quickchart-complete');\n",
              "        }\n",
              "        (() => {\n",
              "          let quickchartButtonEl =\n",
              "            document.querySelector('#df-991bdb39-ad6c-4c18-8193-54c0e7b8c141 button');\n",
              "          quickchartButtonEl.style.display =\n",
              "            google.colab.kernel.accessAllowed ? 'block' : 'none';\n",
              "        })();\n",
              "      </script>\n",
              "    </div>\n",
              "\n",
              "    </div>\n",
              "  </div>\n"
            ],
            "application/vnd.google.colaboratory.intrinsic+json": {
              "type": "dataframe",
              "variable_name": "df",
              "summary": "{\n  \"name\": \"df\",\n  \"rows\": 5809,\n  \"fields\": [\n    {\n      \"column\": \"sender\",\n      \"properties\": {\n        \"dtype\": \"category\",\n        \"num_unique_values\": 2523,\n        \"samples\": [\n          \"\\\"IQ - Standard Life Insurance\\\" <sli@insurancemail.net>\",\n          \"\\\"Michael Leone\\\" <turgon@mike-leone.com>\",\n          \"kevin lyda <kevin+dated+1027702868.158056@linux.ie>\"\n        ],\n        \"semantic_type\": \"\",\n        \"description\": \"\"\n      }\n    },\n    {\n      \"column\": \"receiver\",\n      \"properties\": {\n        \"dtype\": \"category\",\n        \"num_unique_values\": 1598,\n        \"samples\": [\n          \"<pfzlg@dao.nrc.ca>\",\n          \"\\\"Adam L. Beberg\\\" <beberg@mithral.com>,\",\n          \"carlo@alinoe.com\"\n        ],\n        \"semantic_type\": \"\",\n        \"description\": \"\"\n      }\n    },\n    {\n      \"column\": \"date\",\n      \"properties\": {\n        \"dtype\": \"string\",\n        \"num_unique_values\": 5557,\n        \"samples\": [\n          \"Thu, 18 Jul 2002 10:29:04 -0400\",\n          \"Wed, 17 Jul 2002 19:09:57\",\n          \"27 Jun 01 3:36:25 AM\"\n        ],\n        \"semantic_type\": \"\",\n        \"description\": \"\"\n      }\n    },\n    {\n      \"column\": \"subject\",\n      \"properties\": {\n        \"dtype\": \"string\",\n        \"num_unique_values\": 4187,\n        \"samples\": [\n          \"RIP, Robert L Forward\",\n          \"MAKE MONEY AT HOME\",\n          \"[Razor-users] spamassassin+razor2\"\n        ],\n        \"semantic_type\": \"\",\n        \"description\": \"\"\n      }\n    },\n    {\n      \"column\": \"body\",\n      \"properties\": {\n        \"dtype\": \"string\",\n        \"num_unique_values\": 5808,\n        \"samples\": [\n          \">>>>> \\\"J\\\" == James Rogers  writes:     J> ...  They aren't selling the software, which is pretty pricy as     J> it happens.  They are using it to optimize next generation     J> wireless canopies over metro areas and fiber networks on a     J> large scale.  There are an essentially infinite number of metro     J> wireless configurations, some of which generate far more dead     J> or marginal spots and others which are very expensive to     J> operate (due to backhaul transit considerations) or both.  This     J> software can be used as a tool to optimize the canopy coverage     J> and minimize the actual transit costs since the wireless is     J> tied into fiber at multiple points. So you only need to map a handful of metropolitan areas?     J> Or at least investors find this capability very sexy and     J> compelling Ah ... now /that/ I will believe :) Don't mind me; I'm just getting even more cynical in my old age.    --  Gary Lawrence Murphy  TeleDynamics Communications Inc  Business Advantage through Community Software : http://www.teledyn.com \\\"Computers are useless.  They can only give you answers.\\\"(Pablo Picasso)\",\n          \"> - Joe\\n> \\n> P.S. I hate everybody.\\n\\none up: I hate everything post-(the first ten seconds of the universe),\\nbut especially everybody and everything, and including but not limited to\\npuppies and ice cream.\\n\\n\\nhttp://xent.com/mailman/listinfo/fork\",\n          \"![CNET Announce](http://www.cnet.com/i/nl/ann/hd.gif) |\\n![](http://www.cnet.com/i/nl/ann/rt.gif)  \\n---|---  \\n![](http://www.cnet.com/b.gif)  \\n---  \\n![](http://www.cnet.com/b.gif) | ![](http://www.cnet.com/b.gif) |\\n![](http://www.cnet.com/b.gif) | ![](http://www.cnet.com/b.gif)  \\n![](http://www.cnet.com/b.gif) | ![](http://www.cnet.com/b.gif) |\\n![](http://www.cnet.com/b.gif)  \\n![](http://www.cnet.com/b.gif) | ![](http://www.cnet.com/b.gif) |\\n![](http://www.cnet.com/b.gif) | ![](/b.gif)  \\n\\n![](http://home.cnet.com/Ads/Media/Images/ad10-dk.gif)\\n\\n| ![](http://www.cnet.com/b.gif)  \\n---|---|---|---|---  \\n![](http://www.cnet.com/b.gif) | ![](http://www.cnet.com/b.gif) |\\n![](http://www.cnet.com/b.gif) |    July 18, 2002  \\n| ![Canon USA Reseller\\nNews](http://www.captureleads.com/canon/leadblasts/nlimages/monthly_head_598.gif)  \\n---  \\n_July 2002 / Volume 2 No. 5_  \\n  \\n  |  \\n**  \\nThe Canon USA Reseller News  **provides resellers with monthly announcements\\non Canon products that are purchased through national distributors.  \\n  \\n  \\n  \\n  \\n|   |   |  \\nScan the following topics for **\\\"News You Can Use.\\\"**\\n\\n  * They're Here!  \\n\\n  * Check Out Our Q3 Promotions  \\n\\n  * Guess What's Coming to Distribution  \\n\\n  * Web-based Training Addition / We Have a Winner  \\n\\n  * Reseller Account Executive  \\n\\n|  \\n---|---|---|---|---|---  \\n  \\n  | **They're Here!** |  \\n---|---|---  \\n  | Canon's N1000 and N2000 innovative Office Color Printers are here! Orders\\nare now being taken for these ... Super High Speed ... Super High Quality ...\\nLarge Volume printers! With super low operating costs and excellent\\ndurability, these printers provide the solution to your customers' business\\ncolor needs.  \\n  \\nProviding our resellers with the tools necessary to be successful in the\\nmarketplace is important to us. In an effort to help you jump-start your N1000\\nprinter sales, we are making available, on a first come first served basis,\\nHALF-PRICE N1000 DEMO units. For your convenience, these units can be\\npurchased at Ingram Micro, Tech Data or D&H.; There is a limit of one half-\\nprice unit per reseller - and supplies are limited - so order today!  \\n  \\nTo help you generate interest with your customers for the N1000/N2000, we have\\ncreated a video banner ad that can be run on your website. Log on to our\\nreseller website: http://www.canonresellers.com to view the N1000/N2000 video\\nbanner ad. You'll find the ad running on the Home Page. To order a CD of this\\nvideo banner ad for your use, contact your Canon Account Executive.  |  \\n  \\n  | **Check Out Our Q3 Promotions** |  \\n---|---|---  \\n  \\n\\n**Product**\\n\\n| **Instant Rebate*** | **Timeframe**  \\n---|---|---  \\nimageCLASS 1100 | $100 | Through September 30, 2002  \\n  \\n  | *All rebates will be reflected on the distributor invoice price **_at the\\ntime of purchase_**.  \\n  \\n**Quarterly Performance/Growth Bonus**  \\n  \\nIt's a new quarter and a fresh opportunity to become a Canon Premier Partner.\\nOur quarterly growth goals are within reach! Your purchases of all eligible\\nhardware* between July 1, 2002 and September 30, 2002 work toward your Premier\\nPartner status. Following are the rebate categories:  \\n  \\n$50,000-$99,000 = 4% rebate  \\n$100,000+ = 6% rebate  \\n  \\nClaim forms for submitting your claims are available from your Canon reseller\\nAccount Executive and at www.canonresellers.com.  \\n  \\n*Only hardware is eligible - DR-3060, DR-3080C, DR-5020, DR-5080C, DR-4580U, DR-4080U, N1000/N2000 Office Color Printers, imageCLASS 2200 and imageCLASS 1100. CarePAKS, consumables, maintenance kits and media are not eligible.  \\n  \\nClick on www.canonresellers.com, to find your tools for success!  \\n|  \\n---|---|---  \\n  \\n  \\n  | **Guess What's Coming to Distribution** |  \\n---|---|---  \\n  |  Here's a clue: Canon is known 'far and wide' for its products. Coming\\nsoon\\u0097at a distributor near you - we'll show you just how 'wide' our products\\ncan be. Watch for another clue in our August newsletter! |  \\n  \\n  | **Web Based Training Addition / We Have a Winner** |  \\n---|---|---  \\n  | As promised, we're about to launch another web training course. Final\\ntouches are being made on Canon's **N1000/N2000** web training course. This\\ncreative and informative course - covering topics that include Features,\\nInstallation, Connectivity and Markets - is not to be missed. Details to\\nfollow.  \\n  \\nWe have a winner! Congratulations to everyone who completed the imageCLASS\\n1100 web training before June 30! The winning name was randomly selected from\\na 'hat' and we're pleased to announce the winner of the Canon PowerShot A20\\ndigital camera works at one of our valued resellers in North Carolina! |\\n![](http://www.captureleads.com/canon/leadblasts/nlimages/simon_anim.gif) |  \\n  | Although the contest is over... the learning should not stop. If you have\\nnot yet completed this informative imageCLASS 1100 training course, log on to\\nhttp://www.canonresellers.com right click on Simon and go to the training\\nsite.  \\n  \\n|  \\n  \\n  | **Reseller Account Executive\\u0097Contact Changes** |  \\n---|---|---  \\n  | Canon has a dedicated team of Account Executives whose mission is to work\\nwith you to achieve our mutual business goals.  \\n  \\nCheck the list below and note the name and e-mail address of the Account\\nExecutive assigned to your state. Be sure to contact your Account Executive\\nfor support with the following:  |  \\n  |\\n\\n  * N1000/N2000 Video Banner Ad  \\n\\n  * Events (Open Houses/Shows)  \\n\\n  * Sales Support Collateral  \\n\\n  * Discounted Demo Units  \\n\\n|\\n\\n  * End User Sales Calls  \\n\\n  * Demand Generation  \\n\\n  * Product Training  \\n\\n  * Bids  \\n\\n|  \\n  | Account Executives are listed below with the states that they cover.  \\n|  \\n  \\n  | **Northeast** | **John Brogan** | **(jbrogan@cusa.canon.com)** |  \\n---|---|---|---|---  \\n  | Connecticut | Maine  | New Hampshire | Rhode Island |  \\n  | Massachusetts | New York | New Jersey | Vermont |  \\n  |  |  |  |  |  \\n  | **Mid Atlantic** | **Greg Harzenski** | **(gharzenski@cusa.canon.com)** |  \\n  | Delaware | Maryland | Washington D.C. |   |  \\n  |  |  |  |  |  \\n  | **Midwest** | **Jennifer Mickeletto** | **(zzzickeletto@cusa.canon.com)**\\n|  \\n  | Indiana | Kansas | Missouri | Ohio |  \\n  | Colorado | Kentucky | Nebraska | Tennessee |  \\n  |  |  |  |  |  \\n  | **Mid North** | **Chad Crump** | **(ccrump@cusa.canon.com)** |  \\n  | Alaska | Illinois | Minnesota | Washington |  \\n  | Idaho | Montana | North Dakota | Wisconsin |  \\n  | Iowa | Michigan | South Dakota | Wyoming |  \\n  |  |  |  |   |  \\n  | **South** | **Randal Kendrix** | **(rkendrix@cusa.canon.com)** |  \\n  | Arkansas | Mississippi | Oklahoma | Utah |  \\n  | Louisiana | New Mexico | Texas |   |  \\n  |  |  |  |  |  \\n  | **Southeast** | **Carmen DiMartino** | **(cdimartino@cusa.canon.com) ** |  \\n  | Alabama | North Carolina | Puerto Rico | West Virginia |  \\n  | Florida | South Carolina | Virginia |   |  \\n  | Georgia | Pennsylvania | Virgin Islands |  |  \\n  |  |  |  |  |  \\n  | **Southwest** | **Heath Tagtmeyer** | **(htagtmeyer@cusa.canon.com)** |  \\n  | Arizona | Hawaii | Oregon |  |  \\n  | California | Nevada |  |  |  \\n  |  |  |  |  |  \\n  | _If you wish to opt out of receiving future e-mail blasts, pleaseclick\\nhere. If you would like additional recipients to receive our monthly\\ncommunications, send additional names and e-mail addresses to\\ncanonresellers@cits.canon.com. _ |  \\n  |   |   |   |   |  \\n  \\n![](http://www.cnet.com/b.gif)  \\n![](http://www.cnet.com/b.gif) | ![](http://www.cnet.com/b.gif) |\\n![](http://www.cnet.com/b.gif) | ![](http://www.cnet.com/b.gif) |\\n![](http://www.cnet.com/b.gif)  \\n---|---|---|---|---  \\n![](http://www.cnet.com/b.gif) | ![](http://www.cnet.com/b.gif) |\\n![](http://www.cnet.com/b.gif) | ![](http://www.cnet.com/b.gif) |\\n![](http://www.cnet.com/b.gif)  \\n![Sign up for more free newsletters from\\nCNET!](http://a.r.tv.com/cnet.1d/i/nl/ft.gif)  \\nThe e-mail address for your subscription is qqqqqqqqqq-zdnet@example.com\\n\\nUnsubscribe | Manage My Subscriptions  | FAQ  | Advertise  \\n![](http://www.zdnet.com/b.gif) | ![](http://www.cnet.com/b.gif) |\\n![](http://www.cnet.com/b.gif)  \\n---|---|---|---|---|---|---  \\n![](http://www.cnet.com/b.gif) | ![](http://www.cnet.com/b.gif) |\\n![](http://www.cnet.com/b.gif)  \\n---|---|---  \\n![](http://www.cnet.com/b.gif) | ![](http://www.cnet.com/b.gif) |\\n![](http://www.cnet.com/i/dp/smrb.gif) |  Price comparisons | Product reviews\\n| Tech news | Downloads | All CNET services | ![](http://www.cnet.com/b.gif)  \\n---|---|---|---|---  \\n![](http://www.cnet.com/b.gif)  \\n---  \\n.  \\n![](http://clickthru.online.com/Click?q=ba-m-95-hpITW8NcktOu5LdlZB0PRRR)\\n\\n\"\n        ],\n        \"semantic_type\": \"\",\n        \"description\": \"\"\n      }\n    },\n    {\n      \"column\": \"label\",\n      \"properties\": {\n        \"dtype\": \"number\",\n        \"std\": 0,\n        \"min\": 0,\n        \"max\": 1,\n        \"num_unique_values\": 2,\n        \"samples\": [\n          1,\n          0\n        ],\n        \"semantic_type\": \"\",\n        \"description\": \"\"\n      }\n    },\n    {\n      \"column\": \"urls\",\n      \"properties\": {\n        \"dtype\": \"number\",\n        \"std\": 0,\n        \"min\": 0,\n        \"max\": 1,\n        \"num_unique_values\": 2,\n        \"samples\": [\n          0,\n          1\n        ],\n        \"semantic_type\": \"\",\n        \"description\": \"\"\n      }\n    },\n    {\n      \"column\": \"text\",\n      \"properties\": {\n        \"dtype\": \"string\",\n        \"num_unique_values\": 4187,\n        \"samples\": [\n          \"RIP, Robert L Forward\",\n          \"MAKE MONEY AT HOME\"\n        ],\n        \"semantic_type\": \"\",\n        \"description\": \"\"\n      }\n    }\n  ]\n}"
            }
          },
          "metadata": {},
          "execution_count": 6
        }
      ]
    },
    {
      "cell_type": "code",
      "source": [
        "# Analyzing the date column\n",
        "df['date'] = pd.to_datetime(df['date'], format='%a, %d %b %Y %H:%M:%S %z', errors='coerce', utc=True)\n",
        "print(df['date'].dtype)"
      ],
      "metadata": {
        "colab": {
          "base_uri": "https://localhost:8080/"
        },
        "id": "VfMmdz--XkwQ",
        "outputId": "05892295-fb4a-4008-ccb6-3032f7dd642c"
      },
      "execution_count": 7,
      "outputs": [
        {
          "output_type": "stream",
          "name": "stdout",
          "text": [
            "datetime64[ns, UTC]\n"
          ]
        }
      ]
    },
    {
      "cell_type": "code",
      "source": [
        "# Creating separate columns for Date and Time\n",
        "df['Date'] = df['date'].dt.date\n",
        "df['Time'] = df['date'].dt.time\n",
        "\n",
        "# Handling any remaining NaT values (if any)\n",
        "df = df.dropna(subset=['date'])\n",
        "\n",
        "# Plotting the distribution of emails over time\n",
        "df['Date'].value_counts().sort_index().plot()\n",
        "plt.title('Email Frequency Over Time')\n",
        "plt.xlabel('Date')\n",
        "plt.ylabel('Number of Emails')\n",
        "plt.show()"
      ],
      "metadata": {
        "colab": {
          "base_uri": "https://localhost:8080/",
          "height": 472
        },
        "id": "Xmz5oCgGYe9u",
        "outputId": "2e5f0d3c-7999-4702-f37e-447a9899b1fa"
      },
      "execution_count": 8,
      "outputs": [
        {
          "output_type": "display_data",
          "data": {
            "text/plain": [
              "<Figure size 640x480 with 1 Axes>"
            ],
            "image/png": "[encoded data removed]"
          },
          "metadata": {}
        }
      ]
    },
    {
      "cell_type": "markdown",
      "source": [
        "# Step 4: Determine Accuracy"
      ],
      "metadata": {
        "id": "DzJWrg_7JDQI"
      }
    },
    {
      "cell_type": "code",
      "source": [
        "# Preprocessing the body text\n",
        "\n",
        "tfidf_vectorizer = TfidfVectorizer(stop_words='english', max_features=5000)\n",
        "\n",
        "# Replace NaNs with empty strings\n",
        "df['body'] = df['body'].fillna('')\n",
        "\n",
        "# Now vectorize safely\n",
        "X_tfidf = tfidf_vectorizer.fit_transform(df['body'])\n",
        "\n",
        "# Combining other features with TF-IDF features\n",
        "features = pd.DataFrame(X_tfidf.toarray(), columns=tfidf_vectorizer.get_feature_names_out())\n",
        "features['urls'] = df['urls']\n",
        "features['label'] = df['label']\n",
        "\n",
        "# Ensure there are no missing values in the features\n",
        "features = features.dropna()\n",
        "\n",
        "# Splitting the dataset into features and target\n",
        "X = features.drop('label', axis=1)\n",
        "y = features['label']\n",
        "\n",
        "# Handle imbalanced data using SMOTE\n",
        "smote = SMOTE(random_state=42)\n",
        "X_res, y_res = smote.fit_resample(X, y)\n",
        "\n",
        "# Splitting the dataset into training and testing sets\n",
        "X_train, X_test, y_train, y_test = train_test_split(X_res, y_res, test_size=0.2, random_state=42)\n",
        "\n",
        "# Building a Logistic Regression model\n",
        "model = LogisticRegression(max_iter=1000)\n",
        "model.fit(X_train, y_train)\n",
        "\n",
        "# Making predictions\n",
        "y_pred = model.predict(X_test)\n",
        "\n",
        "# Evaluating the model\n",
        "accuracy = accuracy_score(y_test, y_pred)\n",
        "conf_matrix = confusion_matrix(y_test, y_pred)\n",
        "class_report = classification_report(y_test, y_pred, zero_division=1)\n",
        "\n",
        "print(f'Accuracy: {accuracy}')\n",
        "print('Confusion Matrix:')\n",
        "print(conf_matrix)\n",
        "print('Classification Report:')\n",
        "print(class_report)\n",
        "\n",
        "# Visualizing the Confusion Matrix\n",
        "sns.heatmap(conf_matrix, annot=True, fmt='d', cmap='Blues')\n",
        "plt.title('Confusion Matrix')\n",
        "plt.xlabel('Predicted')\n",
        "plt.ylabel('Actual')\n",
        "plt.show()"
      ],
      "metadata": {
        "colab": {
          "base_uri": "https://localhost:8080/",
          "height": 722
        },
        "id": "W07UjhLXTszZ",
        "outputId": "709176e1-8195-4976-914a-71e3fd5ebdb3"
      },
      "execution_count": 15,
      "outputs": [
        {
          "output_type": "stream",
          "name": "stdout",
          "text": [
            "Accuracy: 0.9399844115354637\n",
            "Confusion Matrix:\n",
            "[[596  64]\n",
            " [ 13 610]]\n",
            "Classification Report:\n",
            "              precision    recall  f1-score   support\n",
            "\n",
            "         0.0       0.98      0.90      0.94       660\n",
            "         1.0       0.91      0.98      0.94       623\n",
            "\n",
            "    accuracy                           0.94      1283\n",
            "   macro avg       0.94      0.94      0.94      1283\n",
            "weighted avg       0.94      0.94      0.94      1283\n",
            "\n"
          ]
        },
        {
          "output_type": "display_data",
          "data": {
            "text/plain": [
              "<Figure size 640x480 with 2 Axes>"
            ],
            "image/png": "[encoded data removed]"
          },
          "metadata": {}
        }
      ]
    },
    {
      "cell_type": "code",
      "source": [
        "import matplotlib.pyplot as plt\n",
        "import seaborn as sns\n",
        "\n",
        "df = pd.read_csv('/kaggle/input/phishing-email-dataset/SpamAssasin.csv')\n",
        "\n",
        "# Assuming 'model' is a trained RandomForestClassifier\n",
        "importances = df.feature_importances_\n",
        "feature_names = X.columns\n",
        "\n",
        "# Plot\n",
        "sns.barplot(x=importances, y=feature_names)\n",
        "plt.title('Feature Importance')\n",
        "plt.xlabel('Importance Score')\n",
        "plt.ylabel('Feature')\n",
        "plt.show()\n"
      ],
      "metadata": {
        "colab": {
          "base_uri": "https://localhost:8080/",
          "height": 341
        },
        "id": "GpxE1VcScq6L",
        "outputId": "eef2e08f-b0c9-4ea6-8d15-8581e2b7d23b"
      },
      "execution_count": 18,
      "outputs": [
        {
          "output_type": "error",
          "ename": "AttributeError",
          "evalue": "'DataFrame' object has no attribute 'feature_importances_'",
          "traceback": [
            "\u001b[0;31m---------------------------------------------------------------------------\u001b[0m",
            "\u001b[0;31mAttributeError\u001b[0m                            Traceback (most recent call last)",
            "\u001b[0;32m/tmp/ipython-input-18-2017544138.py\u001b[0m in \u001b[0;36m<cell line: 0>\u001b[0;34m()\u001b[0m\n\u001b[1;32m      5\u001b[0m \u001b[0;34m\u001b[0m\u001b[0m\n\u001b[1;32m      6\u001b[0m \u001b[0;31m# Assuming 'model' is a trained RandomForestClassifier\u001b[0m\u001b[0;34m\u001b[0m\u001b[0;34m\u001b[0m\u001b[0m\n\u001b[0;32m----> 7\u001b[0;31m \u001b[0mimportances\u001b[0m \u001b[0;34m=\u001b[0m \u001b[0mdf\u001b[0m\u001b[0;34m.\u001b[0m\u001b[0mfeature_importances_\u001b[0m\u001b[0;34m\u001b[0m\u001b[0;34m\u001b[0m\u001b[0m\n\u001b[0m\u001b[1;32m      8\u001b[0m \u001b[0mfeature_names\u001b[0m \u001b[0;34m=\u001b[0m \u001b[0mX\u001b[0m\u001b[0;34m.\u001b[0m\u001b[0mcolumns\u001b[0m\u001b[0;34m\u001b[0m\u001b[0;34m\u001b[0m\u001b[0m\n\u001b[1;32m      9\u001b[0m \u001b[0;34m\u001b[0m\u001b[0m\n",
            "\u001b[0;32m/usr/local/lib/python3.11/dist-packages/pandas/core/generic.py\u001b[0m in \u001b[0;36m__getattr__\u001b[0;34m(self, name)\u001b[0m\n\u001b[1;32m   6297\u001b[0m         ):\n\u001b[1;32m   6298\u001b[0m             \u001b[0;32mreturn\u001b[0m \u001b[0mself\u001b[0m\u001b[0;34m[\u001b[0m\u001b[0mname\u001b[0m\u001b[0;34m]\u001b[0m\u001b[0;34m\u001b[0m\u001b[0;34m\u001b[0m\u001b[0m\n\u001b[0;32m-> 6299\u001b[0;31m         \u001b[0;32mreturn\u001b[0m \u001b[0mobject\u001b[0m\u001b[0;34m.\u001b[0m\u001b[0m__getattribute__\u001b[0m\u001b[0;34m(\u001b[0m\u001b[0mself\u001b[0m\u001b[0;34m,\u001b[0m \u001b[0mname\u001b[0m\u001b[0;34m)\u001b[0m\u001b[0;34m\u001b[0m\u001b[0;34m\u001b[0m\u001b[0m\n\u001b[0m\u001b[1;32m   6300\u001b[0m \u001b[0;34m\u001b[0m\u001b[0m\n\u001b[1;32m   6301\u001b[0m     \u001b[0;34m@\u001b[0m\u001b[0mfinal\u001b[0m\u001b[0;34m\u001b[0m\u001b[0;34m\u001b[0m\u001b[0m\n",
            "\u001b[0;31mAttributeError\u001b[0m: 'DataFrame' object has no attribute 'feature_importances_'"
          ]
        }
      ]
    }
  ]
}